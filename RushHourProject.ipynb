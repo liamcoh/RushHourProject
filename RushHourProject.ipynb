{
  "nbformat": 4,
  "nbformat_minor": 0,
  "metadata": {
    "colab": {
      "name": "shitotProject.ipynb",
      "provenance": [],
      "collapsed_sections": [
        "1LpiFXxOcBa2",
        "9GiUIQeicH5A",
        "f2XHPXGCcMOD",
        "wMNhUG4bpttB",
        "3uqtNn32pwtE",
        "OFjUJ7SIp8UY",
        "ZlzdpsZHqOYP",
        "CYz8o8HSqd0i"
      ]
    },
    "kernelspec": {
      "name": "python3",
      "display_name": "Python 3"
    },
    "language_info": {
      "name": "python"
    }
  },
  "cells": [
    {
      "cell_type": "markdown",
      "source": [
        "# Implementation"
      ],
      "metadata": {
        "id": "1LpiFXxOcBa2"
      }
    },
    {
      "cell_type": "code",
      "source": [
        "\"\"\"\n",
        "This module defines the Board and Car classes for the rush-hour game\n",
        "The Car class serve more to store car data and logic involving possible\n",
        "moves of car in the board is defined in the Board class\n",
        "\"\"\"\n",
        "from copy import deepcopy\n",
        "from collections import defaultdict\n",
        "import pdb\n",
        "\n",
        "\n",
        "class Orientation(object):\n",
        "    \"\"\" Direction of the car\"\"\"\n",
        "    HORIZONTAL = 0\n",
        "    VERTICAL = 1\n",
        "\n",
        "\n",
        "class Car(object):\n",
        "    \"\"\"Car Class for the Rushhour game\n",
        "    Attributes:\n",
        "        name: character\n",
        "        coord: Coordinate of the car in the board\n",
        "        length: length of the car (e.g space occupiying the board)\n",
        "        orientation: horizontal or vertical alighment\n",
        "        is_red_car: the car to be freed\n",
        "    \"\"\"\n",
        "\n",
        "    def __init__(self, name, coord, length, orientation, is_red_car=None):\n",
        "        self.name = name\n",
        "        self.coord = coord\n",
        "        self.length = length - 1 \n",
        "        self.orientation = orientation\n",
        "        self.is_red_car = is_red_car\n",
        "\n",
        "    def __eq__(self, other):\n",
        "        return self.__dict__ == other.__dict__\n",
        "\n",
        "    def __str__(self):\n",
        "        return str(self.__dict__)\n",
        "\n",
        "    def __ne__(self, other):\n",
        "        return not self.__eq__(other)\n",
        "\n",
        "    def __hash__(self):\n",
        "        return hash(self.__repr__())\n",
        "\n",
        "    def __repr__(self):\n",
        "        if self.orientation == Orientation.HORIZONTAL:\n",
        "            other_coord = {'x': self.coord['x'] + self.length,\n",
        "                           'y': self.coord['y']}\n",
        "            return \"{} [{},{}]\".format(self.name, self.coord, other_coord)\n",
        "        else:\n",
        "            other_coord = {'x': self.coord[\n",
        "                'x'], 'y': self.coord['y'] + self.length}\n",
        "            return \"{} [{},{}]\".format(self.name, self.coord, other_coord)\n",
        "    \n",
        "\n",
        "    def move(self, direction, distance):\n",
        "        \"\"\"Given the direction and distance, move the car according to it\n",
        "        \"\"\"\n",
        "        if direction == 'up':\n",
        "            self.coord['y'] -= distance\n",
        "\n",
        "        if direction == 'down':\n",
        "            self.coord['y'] += distance\n",
        "\n",
        "        if direction == 'left':\n",
        "            self.coord['x'] -= distance\n",
        "\n",
        "        if direction == 'right':\n",
        "            self.coord['x'] += distance\n",
        "\n",
        "    @staticmethod\n",
        "    def createFromBoardInfo(name, coords):\n",
        "        def plane(coords):\n",
        "            if coords[0]['x'] != coords[1]['x'] and coords[0]['y'] == coords[1]['y']:\n",
        "                return Orientation.HORIZONTAL\n",
        "            else:\n",
        "                return Orientation.VERTICAL\n",
        "        return Car(name, coords[0], len(coords), plane(coords), is_red_car=(name == 'r'))\n",
        "\n",
        "\n",
        "class Board(object):\n",
        "    \"\"\"Board Class for setting up the playing board\n",
        "    Attributes:\n",
        "        cars: list of cars on the play board\n",
        "        size: size of the board\n",
        "    \"\"\"\n",
        "\n",
        "    def __init__(self, cars, width=6, height=6):\n",
        "        self.size = {'x': height, 'y': width}\n",
        "        self.cars = cars\n",
        "        self.depth = 0\n",
        "        self.hval = 0\n",
        "\n",
        "    def __eq__(self, other):\n",
        "        return self.cars == other.other\n",
        "\n",
        "    def __str__(self):\n",
        "        return str(self.__dict__)\n",
        "\n",
        "    def __ne__(self, other):\n",
        "        return not self.__eq__(other)\n",
        "\n",
        "    def __hash__(self):\n",
        "        return hash(self.__repr__())\n",
        "\n",
        "    @staticmethod\n",
        "    def readFromfile(filename):\n",
        "        \"\"\"Reads a puzzle from a file and creates a new board instance, identifies the red car and board dimensions \"\"\"\n",
        "        def get_coord(row_idx):\n",
        "            def result(tup):\n",
        "                return (tup[1], {'y': row_idx, 'x': tup[0]})\n",
        "            return result\n",
        "\n",
        "        def flatten(l):\n",
        "            return [item for sublist in l for item in sublist]\n",
        "\n",
        "        puzzle_file = open(filename, 'r')\n",
        "        raw_board = [list(line.strip()) for line in puzzle_file]\n",
        "        coords_board = [map(get_coord(row_idx), enumerate(row))\n",
        "                        for row_idx, row in enumerate(raw_board)]\n",
        "        cars_board = flatten([filter(lambda t: t[0].isalpha(), list(row))\n",
        "                              for row in list(coords_board)])\n",
        "        raw_cars = defaultdict(list)\n",
        "        for (k, v) in cars_board:\n",
        "            raw_cars[k].append(v)\n",
        "        cars = []\n",
        "        for i in raw_cars:\n",
        "            cars.append(Car.createFromBoardInfo(i, raw_cars[i]))\n",
        "        return Board(cars, len(raw_board), len(raw_board[0]))\n",
        "\n",
        "    def explore_moves(self):\n",
        "        \"\"\"Explore the state space of possible moves for a single car, this also checks whether we bump into a car or a wall\"\"\"\n",
        "        board = self.game_board(self.cars)\n",
        "        for car in self.cars:\n",
        "            if car.orientation == Orientation.VERTICAL:\n",
        "                # UP\n",
        "                if car.coord['y'] - 1 >= 0 and board[car.coord['y'] - 1][car.coord['x']] == '.':\n",
        "                    new_cars = deepcopy(self.cars)\n",
        "                    new_car = [x for x in new_cars if x.name == car.name][0]\n",
        "                    new_car.coord['y'] -= 1\n",
        "                    yield [[[car.name, 'up']], Board(new_cars)]\n",
        "                # DOWN\n",
        "                if car.coord['y'] + car.length + 1 <= (self.size['x'] - 1) and board[car.coord['y'] + car.length + 1][car.coord['x']] == '.':\n",
        "                    new_cars = deepcopy(self.cars)\n",
        "                    new_car = [x for x in new_cars if x.name == car.name][0]\n",
        "                    new_car.coord['y'] += 1\n",
        "                    yield [[[car.name, 'down']], Board(new_cars)]\n",
        "            else:\n",
        "                # LEFT\n",
        "                if car.coord['x'] - 1 >= 0 and board[car.coord['y']][car.coord['x'] - 1] == '.':\n",
        "                    new_cars = deepcopy(self.cars)\n",
        "                    new_car = [x for x in new_cars if x.name == car.name][0]\n",
        "                    new_car.coord['x'] -= 1\n",
        "                    yield [[[car.name, 'left']], Board(new_cars)]\n",
        "                # RIGHT\n",
        "                if car.coord['x'] + car.length + 1 <= (self.size['y'] - 1) and board[car.coord['y']][car.coord['x'] + car.length + 1] == '.':\n",
        "                    new_cars = deepcopy(self.cars)\n",
        "                    new_car = [x for x in new_cars if x.name == car.name][0]\n",
        "                    new_car.coord['x'] += 1\n",
        "                    yield [[[car.name, 'right']], Board(new_cars)]\n",
        "\n",
        "    def game_board(self, cars):\n",
        "        \"\"\"Given a set of cars, create a 2D array of the puzzle\"\"\"\n",
        "        board = [['.' for col in range(self.size['x'])]\n",
        "                 for row in range(self.size['y'])]\n",
        "        for car in cars:\n",
        "            if car.orientation == Orientation.HORIZONTAL:\n",
        "                x_start = car.coord['x']\n",
        "                x_stop = car.coord['x'] + car.length\n",
        "                for x in range(x_start, x_stop + 1):\n",
        "                    board[car.coord['y']][x] = car.name\n",
        "            else:\n",
        "                y_start = car.coord['y']\n",
        "                y_stop = car.coord['y'] + car.length\n",
        "                for y in range(y_start, y_stop + 1):\n",
        "                    board[y][car.coord['x']] = car.name\n",
        "        return board\n",
        "\n",
        "    def prettify(self, cars):\n",
        "        \"\"\"Printable version that represents the 2D array of the puzzle\"\"\"\n",
        "        board = self.game_board(cars)\n",
        "        output = ''\n",
        "        for line in board:\n",
        "            output += \" \".join(line) + '\\n'\n",
        "        return output\n",
        "\n",
        "    def is_solved(self):\n",
        "        \"\"\"Check if the red_car is free\"\"\"\n",
        "        red_car = [car for car in self.cars if car.is_red_car][0]\n",
        "        return red_car.coord['x'] + red_car.length == self.size['x'] - 1"
      ],
      "metadata": {
        "id": "ZuE2hFXu-tDK"
      },
      "execution_count": 2,
      "outputs": []
    },
    {
      "cell_type": "code",
      "source": [
        "import heapq\n",
        "from copy import deepcopy\n",
        "\n",
        "\n",
        "class PriorityQueue:\n",
        "    \"\"\"A simple version of a Priority Queue, that allows to give a priority value to an element\"\"\"\n",
        "\n",
        "    def __init__(self):\n",
        "        self._queue = []\n",
        "        self._dictq = {}\n",
        "        self._index = 0\n",
        "\n",
        "    def push(self, item, priority):\n",
        "        heapq.heappush(self._queue, (priority, self._index, item))\n",
        "        self._dictq[hash(str(item[1]))] = priority\n",
        "        self._index += 1\n",
        "\n",
        "    def empty(self):\n",
        "        return len(self._queue) == 0\n",
        "\n",
        "    def pop(self):\n",
        "        return heapq.heappop(self._queue)[-1]\n",
        "    \n",
        "\n",
        "class NotSolvable(Exception):\n",
        "    pass\n",
        "\n",
        "class ZeroHeuristic:\n",
        "    \"\"\"Zero Heuristcs, same as a BFS search\"\"\"\n",
        "\n",
        "    def calculate(self, board):\n",
        "        return 0\n",
        "\n",
        "    def __repr__(self):\n",
        "        return 'ZeroHeuristic'\n",
        "\n",
        "\n",
        "class BlockingCarsHeuristic:\n",
        "    \"\"\"Calculate number of cars blocking the way plus distance\"\"\"\n",
        "\n",
        "    def calculate(self, board):\n",
        "        red_car = [\n",
        "            car for car in board.cars if car.is_red_car][0]\n",
        "        if red_car.coord['x'] == 4:\n",
        "            return 0\n",
        "\n",
        "        dist = 5 - (red_car.coord['x'] + 1)\n",
        "\n",
        "        blockingcars = 0\n",
        "        for car in board.cars:\n",
        "            if (car.orientation == Orientation.VERTICAL \n",
        "                and car.coord['x'] >= (red_car.coord['x'] + red_car.length) \n",
        "                and (car.coord['y'] <= red_car.coord['y'] and car.coord['y'] + car.length >= red_car.coord['y'])\n",
        "                ):\n",
        "                blockingcars += 1\n",
        "\n",
        "        return blockingcars + dist\n",
        "\n",
        "    def __repr__(self):\n",
        "        return 'BlockingCarsHeuristic'\n",
        "\n",
        "class BlockingBlockingCarsHeuristic:\n",
        "    \"\"\"Calculate number of cars blocking the way plus distance plus cars blocking the blocking cars\"\"\"\n",
        "\n",
        "    def calculate(self, board):\n",
        "        red_car = [\n",
        "            car for car in board.cars if car.is_red_car][0]\n",
        "        if red_car.coord['x'] == 4:\n",
        "            return 0\n",
        "\n",
        "        dist = 5 - (red_car.coord['x'] + 1)\n",
        "\n",
        "        blockingcars = 0\n",
        "        blockingBlocking = 0\n",
        "        for car in board.cars:\n",
        "            if (car.orientation == Orientation.VERTICAL \n",
        "                and car.coord['x'] >= (red_car.coord['x'] + red_car.length) \n",
        "                and (car.coord['y'] <= red_car.coord['y'] and car.coord['y'] + car.length >= red_car.coord['y'])\n",
        "                ):\n",
        "                blockingcars += 1\n",
        "                for car2 in board.cars:\n",
        "                  if (car2.orientation == Orientation.VERTICAL \n",
        "                      and car2.coord['x'] == car.coord['x'] \n",
        "                      and (car2.coord['y'] + car2.length == car.coord['y'] - 1 or car2.coord['y'] == car.coord['y'] + car.length + 1)\n",
        "                      ):\n",
        "                    blockingBlocking += 1\n",
        "                  if (car2.orientation == Orientation.HORIZONTAL \n",
        "                      and (car.coord['x'] >= car2.coord['x'] and car.coord['x'] <= car2.coord['x'] + car2.length) \n",
        "                      and (car2.coord['y'] == car.coord['y'] - 1 or car2.coord['y'] == car.coord['y'] + car.length + 1)\n",
        "                      ):\n",
        "                    blockingBlocking += 1\n",
        "\n",
        "        return blockingcars + dist + blockingBlocking\n",
        "\n",
        "    def __repr__(self):\n",
        "        return 'BlockingBlockingCarsHeuristic'\n",
        "\n",
        "\n",
        "class Solver(object):\n",
        "    \"\"\"The Solver class takes as input the board to be solved\n",
        "        Attributes:\n",
        "        board: the initial config of the puzzle\n",
        "        hfn: heuristic_function\n",
        "    \"\"\"\n",
        "\n",
        "    def __init__(self, board, hfn):\n",
        "        self.board = board\n",
        "        self.hfn = hfn\n",
        "        self.visited = 0\n",
        "        self.generated = 0\n",
        "        self.path = []\n",
        "        self.path_dict = {}\n",
        "        self.dup = {}\n",
        "\n",
        "    def solve(self):\n",
        "        frontier = PriorityQueue()\n",
        "        board = self.board\n",
        "        closed_set = set()\n",
        "        frontier.push([[], board], 0)\n",
        "        g = {}\n",
        "        g[hash(str(board))] = 0\n",
        "        while not frontier.empty():\n",
        "            moves, board = frontier.pop()\n",
        "            frontier._dictq.pop(hash(str(board)))\n",
        "\n",
        "            if board.is_solved():\n",
        "                return (moves, len(closed_set), len(frontier._queue))\n",
        "            \n",
        "            closed_set.add(hash(str(board)))\n",
        "\n",
        "            for new_moves, new_boards in board.explore_moves():\n",
        "                new_g = g[hash(str(board))] + 1\n",
        "                # f = g(u) + h(u)\n",
        "                priority = new_g + self.hfn.calculate(new_boards)\n",
        "                if hash(str(new_boards)) in frontier._dictq or new_boards in closed_set:\n",
        "                    if new_g >= g[hash(str(new_boards))]:\n",
        "                      continue\n",
        "                    else:\n",
        "                        closed_set.remove(hash(str(new_boards)))\n",
        "\n",
        "                frontier.push([moves + new_moves, new_boards], priority)\n",
        "                g[hash(str(new_boards))] = new_g\n",
        "\n",
        "        raise NotSolvable('Not able to solve!')\n",
        "\n",
        "\n",
        "    def solveIDA(self):\n",
        "      threshold = self.hfn.calculate(self.board)\n",
        "      self.path.append([[], self.board])\n",
        "      self.path_dict[hash(str(self.board))] = threshold\n",
        "      self.dup[hash(str(self.board))] = 0\n",
        "      g = {}\n",
        "      g[hash(str(self.board))] = 0\n",
        "\n",
        "      def IDArec(curThreshold):\n",
        "        moves, board = self.path[-1:][0]\n",
        "        priority = g[hash(str(board))] + self.hfn.calculate(board)\n",
        "        min = float(\"inf\")\n",
        "\n",
        "        if priority > curThreshold:\n",
        "          return priority\n",
        "\n",
        "        self.visited += 1\n",
        "        self.dup[hash(str(board))] += 1\n",
        "\n",
        "        if board.is_solved():\n",
        "          return (moves, self.visited, self.generated, self.dup)\n",
        "\n",
        "        for new_moves, new_boards in board.explore_moves():      \n",
        "          if hash(str(new_boards)) not in self.path_dict:\n",
        "            new_g = g[hash(str(board))] + 1\n",
        "            g[hash(str(new_boards))] = new_g\n",
        "            new_priority = new_g + self.hfn.calculate(new_boards)\n",
        "            if hash(str(new_boards)) not in self.dup: self.dup[hash(str(new_boards))] = 0\n",
        "            self.generated += 1\n",
        "            self.path.append([moves + new_moves, new_boards])\n",
        "            self.path_dict[hash(str(new_boards))] = new_priority\n",
        "            t = IDArec(curThreshold)\n",
        "            if isinstance(t, tuple):\n",
        "              return t\n",
        "            elif t < min:\n",
        "                min = t\n",
        "            del self.path[-1]\n",
        "            self.path_dict.pop(hash(str(new_boards)))\n",
        "\n",
        "        return min\n",
        "\n",
        "      while True:\n",
        "        t = IDArec(threshold)\n",
        "        if isinstance(t, tuple):\n",
        "          self.path = []\n",
        "          self.path_dict = {}\n",
        "          self.visited = 0\n",
        "          self.generated = 0\n",
        "          self.dup = {}\n",
        "          return (t[0], t[1], t[2], t[3])\n",
        "        if t == float(\"inf\"):\n",
        "          raise NotSolvable('Not able to solve!') \n",
        "        else:\n",
        "          threshold = t\n",
        "\n",
        "\n",
        "    def solution(self, board, moves):\n",
        "        \"\"\"Format the steps and provide a step-by-step guide to solve the puzzle\"\"\"\n",
        "        output = ''\n",
        "        output += \"; \".join([\"{} {}\".format(move[0], move[1]) for move in moves])\n",
        "        cars = deepcopy(board.cars)\n",
        "        for move in moves:\n",
        "            car = [x for x in cars if x.name == move[0]][0]\n",
        "            output += '\\nMOVE {} {}\\n'.format(move[0], move[1])\n",
        "            car.move(move[1], 1)\n",
        "            output += self.board.prettify(cars)\n",
        "        return output\n",
        "\n",
        "    def solutionMoves(self, moves):\n",
        "      output = ''\n",
        "      output += \"; \".join([\"{} {}\".format(move[0], move[1]) for move in moves])\n",
        "      return output"
      ],
      "metadata": {
        "id": "35n59Acs-r_F"
      },
      "execution_count": 16,
      "outputs": []
    },
    {
      "cell_type": "markdown",
      "source": [
        "# Tests"
      ],
      "metadata": {
        "id": "9GiUIQeicH5A"
      }
    },
    {
      "cell_type": "code",
      "source": [
        "import time\n",
        "\n",
        "b = Board.readFromfile('p1.txt')\n",
        "print(b.prettify(b.cars))\n",
        "astar1 = Solver(b, BlockingCarsHeuristic())\n",
        "IDAstar1 = Solver(b, BlockingCarsHeuristic())\n",
        "astar2 = Solver(b, BlockingBlockingCarsHeuristic())\n",
        "IDAstar2 = Solver(b, BlockingBlockingCarsHeuristic())\n",
        "\n",
        "start_astar1 = time.time()\n",
        "moves_astar1, closed_astar1, open_astar1 = astar1.solve()\n",
        "end_astar1 = time.time()\n",
        "\n",
        "print(f\"A* BCars - num of moves: {len(moves_astar1)}, num of nodes passes: {closed_astar1}, num of nodes gen: {open_astar1 + closed_astar1}, time: {end_astar1 - start_astar1}\")\n",
        "print(astar1.solutionMoves(moves_astar1))\n",
        "\n",
        "start_astar2 = time.time()\n",
        "moves_astar2, closed_astar2, open_astar2 = astar2.solve()\n",
        "end_astar2 = time.time()\n",
        "\n",
        "print(f\"A* BBCars - num of moves: {len(moves_astar2)}, num of nodes passes: {closed_astar2}, num of nodes gen: {open_astar2 + closed_astar2}, time: {end_astar2 - start_astar2}\")\n",
        "print(astar2.solutionMoves(moves_astar2))\n",
        "\n",
        "start_IDAstar1 = time.time()\n",
        "moves_IDAstar1, visited_IDAstar1, generated_IDAstar1, dup_IDAstar1 = IDAstar1.solveIDA()\n",
        "end_IDAstar1 = time.time()\n",
        "\n",
        "dup_IDAstar1_num = 0\n",
        "for key,val in dup_IDAstar1.items():\n",
        "  if val > 1: dup_IDAstar1_num += (val - 1)\n",
        "\n",
        "print(f\"IDA* BCars - num of moves: {len(moves_IDAstar1)}, num of nodes passes: {visited_IDAstar1}, num of nodes gen: {generated_IDAstar1}, duplicates passes: {dup_IDAstar1_num}, time: {end_IDAstar1 - start_IDAstar1}\")\n",
        "print(IDAstar1.solutionMoves(moves_IDAstar1))\n",
        "\n",
        "start_IDAstar2 = time.time()\n",
        "moves_IDAstar2, visited_IDAstar2, generated_IDAstar2, dup_IDAstar2 = IDAstar2.solveIDA()\n",
        "end_IDAstar2 = time.time()\n",
        "\n",
        "dup_IDAstar2_num = 0\n",
        "for key,val in dup_IDAstar2.items():\n",
        "  if val > 1: dup_IDAstar2_num += (val - 1)\n",
        "\n",
        "print(f\"IDA* BBCars - num of moves: {len(moves_IDAstar2)}, num of nodes passes: {visited_IDAstar2}, num of nodes gen: {generated_IDAstar2}, duplicates passes: {dup_IDAstar2_num}, time: {end_IDAstar2 - start_IDAstar2}\")\n",
        "print(IDAstar2.solutionMoves(moves_IDAstar2))"
      ],
      "metadata": {
        "colab": {
          "base_uri": "https://localhost:8080/"
        },
        "id": "jtOwGTCp-q3H",
        "outputId": "b22f7c67-2d6e-4ed7-c25a-17dc09a08bb8"
      },
      "execution_count": 12,
      "outputs": [
        {
          "output_type": "stream",
          "name": "stdout",
          "text": [
            ". . A A . O\n",
            ". . . . . O\n",
            ". . . r r O\n",
            "B . . . . .\n",
            "B X X X . .\n",
            ". . . . . .\n",
            "\n",
            "A* BCars - num of moves: 4, num of nodes passes: 27, num of nodes gen: 102, time: 0.03453636169433594\n",
            "O down; O down; O down; r right\n",
            "A* BBCars - num of moves: 4, num of nodes passes: 27, num of nodes gen: 102, time: 0.035491943359375\n",
            "O down; O down; O down; r right\n",
            "IDA* BCars - num of moves: 4, num of nodes passes: 26, num of nodes gen: 143, duplicates passes: 7, time: 0.03542470932006836\n",
            "O down; O down; O down; r right\n",
            "IDA* BBCars - num of moves: 4, num of nodes passes: 26, num of nodes gen: 143, duplicates passes: 7, time: 0.050110578536987305\n",
            "O down; O down; O down; r right\n"
          ]
        }
      ]
    },
    {
      "cell_type": "code",
      "source": [
        "b = Board.readFromfile('p2.txt')\n",
        "print(b.prettify(b.cars))\n",
        "astar1 = Solver(b, BlockingCarsHeuristic())\n",
        "IDAstar1 = Solver(b, BlockingCarsHeuristic())\n",
        "astar2 = Solver(b, BlockingBlockingCarsHeuristic())\n",
        "IDAstar2 = Solver(b, BlockingBlockingCarsHeuristic())\n",
        "\n",
        "start_astar1 = time.time()\n",
        "moves_astar1, closed_astar1, open_astar1 = astar1.solve()\n",
        "end_astar1 = time.time()\n",
        "\n",
        "print(f\"A* BCars - num of moves: {len(moves_astar1)}, num of nodes passes: {closed_astar1}, num of nodes gen: {open_astar1 + closed_astar1}, time: {end_astar1 - start_astar1}\")\n",
        "print(astar1.solutionMoves(moves_astar1))\n",
        "\n",
        "start_astar2 = time.time()\n",
        "moves_astar2, closed_astar2, open_astar2 = astar2.solve()\n",
        "end_astar2 = time.time()\n",
        "\n",
        "print(f\"A* BBCars - num of moves: {len(moves_astar2)}, num of nodes passes: {closed_astar2}, num of nodes gen: {open_astar2 + closed_astar2}, time: {end_astar2 - start_astar2}\")\n",
        "print(astar2.solutionMoves(moves_astar2))\n",
        "\n",
        "start_IDAstar1 = time.time()\n",
        "moves_IDAstar1, visited_IDAstar1, generated_IDAstar1, dup_IDAstar1 = IDAstar1.solveIDA()\n",
        "end_IDAstar1 = time.time()\n",
        "\n",
        "dup_IDAstar1_num = 0\n",
        "for key,val in dup_IDAstar1.items():\n",
        "  if val > 1: dup_IDAstar1_num += (val - 1)\n",
        "\n",
        "print(f\"IDA* BCars - num of moves: {len(moves_IDAstar1)}, num of nodes passes: {visited_IDAstar1}, num of nodes gen: {generated_IDAstar1}, duplicates passes: {dup_IDAstar1_num}, time: {end_IDAstar1 - start_IDAstar1}\")\n",
        "print(IDAstar1.solutionMoves(moves_IDAstar1))\n",
        "\n",
        "start_IDAstar2 = time.time()\n",
        "moves_IDAstar2, visited_IDAstar2, generated_IDAstar2, dup_IDAstar2 = IDAstar2.solveIDA()\n",
        "end_IDAstar2 = time.time()\n",
        "\n",
        "dup_IDAstar2_num = 0\n",
        "for key,val in dup_IDAstar2.items():\n",
        "  if val > 1: dup_IDAstar2_num += (val - 1)\n",
        "\n",
        "print(f\"IDA* BBCars - num of moves: {len(moves_IDAstar2)}, num of nodes passes: {visited_IDAstar2}, num of nodes gen: {generated_IDAstar2}, duplicates passes: {dup_IDAstar2_num}, time: {end_IDAstar2 - start_IDAstar2}\")\n",
        "print(IDAstar2.solutionMoves(moves_IDAstar2))"
      ],
      "metadata": {
        "colab": {
          "base_uri": "https://localhost:8080/"
        },
        "id": "FxUXlfKi4d_a",
        "outputId": "ea67ebe6-2096-4004-b2f0-1e193c87742d"
      },
      "execution_count": 14,
      "outputs": [
        {
          "output_type": "stream",
          "name": "stdout",
          "text": [
            ". . . . A A\n",
            ". . . C C O\n",
            ". r r . Q O\n",
            ". . . . Q O\n",
            ". . . . Q .\n",
            ". . X X X .\n",
            "\n",
            "A* BCars - num of moves: 7, num of nodes passes: 71, num of nodes gen: 281, time: 0.11063313484191895\n",
            "r right; X left; Q down; r right; O down; O down; r right\n",
            "A* BBCars - num of moves: 7, num of nodes passes: 18, num of nodes gen: 107, time: 0.028548479080200195\n",
            "X left; Q down; O down; O down; r right; r right; r right\n",
            "IDA* BCars - num of moves: 7, num of nodes passes: 126, num of nodes gen: 814, duplicates passes: 69, time: 0.23008060455322266\n",
            "O down; O down; r right; X left; Q down; r right; r right\n",
            "IDA* BBCars - num of moves: 8, num of nodes passes: 34, num of nodes gen: 250, duplicates passes: 14, time: 0.0709383487701416\n",
            "A left; r right; X left; Q down; O down; O down; r right; r right\n"
          ]
        }
      ]
    },
    {
      "cell_type": "code",
      "source": [
        "b = Board.readFromfile('p3.txt')\n",
        "print(b.prettify(b.cars))\n",
        "astar1 = Solver(b, BlockingCarsHeuristic())\n",
        "IDAstar1 = Solver(b, BlockingCarsHeuristic())\n",
        "astar2 = Solver(b, BlockingBlockingCarsHeuristic())\n",
        "IDAstar2 = Solver(b, BlockingBlockingCarsHeuristic())\n",
        "\n",
        "start_astar1 = time.time()\n",
        "moves_astar1, closed_astar1, open_astar1 = astar1.solve()\n",
        "end_astar1 = time.time()\n",
        "\n",
        "print(f\"A* BCars - num of moves: {len(moves_astar1)}, num of nodes passes: {closed_astar1}, num of nodes gen: {open_astar1 + closed_astar1}, time: {end_astar1 - start_astar1}\")\n",
        "print(astar1.solutionMoves(moves_astar1))\n",
        "\n",
        "start_astar2 = time.time()\n",
        "moves_astar2, closed_astar2, open_astar2 = astar2.solve()\n",
        "end_astar2 = time.time()\n",
        "\n",
        "print(f\"A* BBCars - num of moves: {len(moves_astar2)}, num of nodes passes: {closed_astar2}, num of nodes gen: {open_astar2 + closed_astar2}, time: {end_astar2 - start_astar2}\")\n",
        "print(astar2.solutionMoves(moves_astar2))\n",
        "\n",
        "start_IDAstar1 = time.time()\n",
        "moves_IDAstar1, visited_IDAstar1, generated_IDAstar1, dup_IDAstar1 = IDAstar1.solveIDA()\n",
        "end_IDAstar1 = time.time()\n",
        "\n",
        "dup_IDAstar1_num = 0\n",
        "for key,val in dup_IDAstar1.items():\n",
        "  if val > 1: dup_IDAstar1_num += (val - 1)\n",
        "\n",
        "print(f\"IDA* BCars - num of moves: {len(moves_IDAstar1)}, num of nodes passes: {visited_IDAstar1}, num of nodes gen: {generated_IDAstar1}, duplicates passes: {dup_IDAstar1_num}, time: {end_IDAstar1 - start_IDAstar1}\")\n",
        "print(IDAstar1.solutionMoves(moves_IDAstar1))\n",
        "\n",
        "start_IDAstar2 = time.time()\n",
        "moves_IDAstar2, visited_IDAstar2, generated_IDAstar2, dup_IDAstar2 = IDAstar2.solveIDA()\n",
        "end_IDAstar2 = time.time()\n",
        "\n",
        "dup_IDAstar2_num = 0\n",
        "for key,val in dup_IDAstar2.items():\n",
        "  if val > 1: dup_IDAstar2_num += (val - 1)\n",
        "\n",
        "print(f\"IDA* BBCars - num of moves: {len(moves_IDAstar2)}, num of nodes passes: {visited_IDAstar2}, num of nodes gen: {generated_IDAstar2}, duplicates passes: {dup_IDAstar2_num}, time: {end_IDAstar2 - start_IDAstar2}\")\n",
        "print(IDAstar2.solutionMoves(moves_IDAstar2))"
      ],
      "metadata": {
        "colab": {
          "base_uri": "https://localhost:8080/"
        },
        "id": "y5hvOkei4c6S",
        "outputId": "b512dafc-4862-4684-c29d-08a691213e6e"
      },
      "execution_count": 13,
      "outputs": [
        {
          "output_type": "stream",
          "name": "stdout",
          "text": [
            ". . . . . O\n",
            ". . . Q . O\n",
            ". r r Q . O\n",
            ". . . Q . .\n",
            "B X X X . .\n",
            "B . . . . .\n",
            "\n",
            "A* BCars - num of moves: 11, num of nodes passes: 170, num of nodes gen: 334, time: 0.25678372383117676\n",
            "B up; B up; X left; Q down; Q down; r right; r right; O down; O down; O down; r right\n",
            "A* BBCars - num of moves: 11, num of nodes passes: 155, num of nodes gen: 334, time: 0.2231903076171875\n",
            "B up; B up; X left; Q down; Q down; r right; r right; O down; O down; O down; r right\n",
            "IDA* BCars - num of moves: 11, num of nodes passes: 3987, num of nodes gen: 19336, duplicates passes: 3853, time: 4.8596673011779785\n",
            "O down; O down; O down; B up; B up; X left; Q down; Q down; r right; r right; r right\n",
            "IDA* BBCars - num of moves: 11, num of nodes passes: 2338, num of nodes gen: 11463, duplicates passes: 2222, time: 2.9450652599334717\n",
            "O down; O down; O down; B up; B up; X left; Q down; Q down; r right; r right; r right\n"
          ]
        }
      ]
    },
    {
      "cell_type": "code",
      "source": [
        "b = Board.readFromfile('p4.txt')\n",
        "print(b.prettify(b.cars))\n",
        "astar1 = Solver(b, BlockingCarsHeuristic())\n",
        "IDAstar1 = Solver(b, BlockingCarsHeuristic())\n",
        "astar2 = Solver(b, BlockingBlockingCarsHeuristic())\n",
        "IDAstar2 = Solver(b, BlockingBlockingCarsHeuristic())\n",
        "\n",
        "start_astar1 = time.time()\n",
        "moves_astar1, closed_astar1, open_astar1 = astar1.solve()\n",
        "end_astar1 = time.time()\n",
        "\n",
        "print(f\"A* BCars - num of moves: {len(moves_astar1)}, num of nodes passes: {closed_astar1}, num of nodes gen: {open_astar1 + closed_astar1}, time: {end_astar1 - start_astar1}\")\n",
        "print(astar1.solutionMoves(moves_astar1))\n",
        "\n",
        "start_astar2 = time.time()\n",
        "moves_astar2, closed_astar2, open_astar2 = astar2.solve()\n",
        "end_astar2 = time.time()\n",
        "\n",
        "print(f\"A* BBCars - num of moves: {len(moves_astar2)}, num of nodes passes: {closed_astar2}, num of nodes gen: {open_astar2 + closed_astar2}, time: {end_astar2 - start_astar2}\")\n",
        "print(astar2.solutionMoves(moves_astar2))\n",
        "\n",
        "start_IDAstar1 = time.time()\n",
        "moves_IDAstar1, visited_IDAstar1, generated_IDAstar1, dup_IDAstar1 = IDAstar1.solveIDA()\n",
        "end_IDAstar1 = time.time()\n",
        "\n",
        "dup_IDAstar1_num = 0\n",
        "for key,val in dup_IDAstar1.items():\n",
        "  if val > 1: dup_IDAstar1_num += (val - 1)\n",
        "\n",
        "print(f\"IDA* BCars - num of moves: {len(moves_IDAstar1)}, num of nodes passes: {visited_IDAstar1}, num of nodes gen: {generated_IDAstar1}, duplicates passes: {dup_IDAstar1_num}, time: {end_IDAstar1 - start_IDAstar1}\")\n",
        "print(IDAstar1.solutionMoves(moves_IDAstar1))\n",
        "\n",
        "start_IDAstar2 = time.time()\n",
        "moves_IDAstar2, visited_IDAstar2, generated_IDAstar2, dup_IDAstar2 = IDAstar2.solveIDA()\n",
        "end_IDAstar2 = time.time()\n",
        "\n",
        "dup_IDAstar2_num = 0\n",
        "for key,val in dup_IDAstar2.items():\n",
        "  if val > 1: dup_IDAstar2_num += (val - 1)\n",
        "\n",
        "print(f\"IDA* BBCars - num of moves: {len(moves_IDAstar2)}, num of nodes passes: {visited_IDAstar2}, num of nodes gen: {generated_IDAstar2}, duplicates passes: {dup_IDAstar2_num}, time: {end_IDAstar2 - start_IDAstar2}\")\n",
        "print(IDAstar2.solutionMoves(moves_IDAstar2))"
      ],
      "metadata": {
        "colab": {
          "base_uri": "https://localhost:8080/"
        },
        "id": "NIFcX4KZjMcu",
        "outputId": "fa238090-9b58-47c5-fcad-1d43e90e830c"
      },
      "execution_count": 11,
      "outputs": [
        {
          "output_type": "stream",
          "name": "stdout",
          "text": [
            ". . A A P .\n",
            ". . . Q P .\n",
            ". r r Q P .\n",
            ". . . Q C C\n",
            ". X X X . .\n",
            ". . . . . .\n",
            "\n",
            "A* BCars - num of moves: 15, num of nodes passes: 336, num of nodes gen: 719, time: 0.8422539234161377\n",
            "A left; Q up; C left; C left; C left; Q down; X left; Q down; Q down; r right; P down; P down; P down; r right; r right\n",
            "A* BBCars - num of moves: 15, num of nodes passes: 283, num of nodes gen: 666, time: 0.6268978118896484\n",
            "A left; Q up; C left; C left; C left; X left; Q down; Q down; Q down; r right; P down; P down; P down; r right; r right\n",
            "IDA* BCars - num of moves: 15, num of nodes passes: 472301, num of nodes gen: 2034804, duplicates passes: 471989, time: 608.4634916782379\n",
            "A left; Q up; C left; C left; P down; P down; P down; C left; Q down; X left; Q down; Q down; r right; r right; r right\n",
            "IDA* BBCars - num of moves: 15, num of nodes passes: 131870, num of nodes gen: 651617, duplicates passes: 131608, time: 195.66246104240417\n",
            "A left; Q up; C left; C left; P down; P down; P down; C left; Q down; X left; Q down; Q down; r right; r right; r right\n"
          ]
        }
      ]
    },
    {
      "cell_type": "code",
      "source": [
        "b = Board.readFromfile('p5.txt')\n",
        "print(b.prettify(b.cars))\n",
        "astar1 = Solver(b, BlockingCarsHeuristic())\n",
        "IDAstar1 = Solver(b, BlockingCarsHeuristic())\n",
        "astar2 = Solver(b, BlockingBlockingCarsHeuristic())\n",
        "IDAstar2 = Solver(b, BlockingBlockingCarsHeuristic())\n",
        "\n",
        "start_astar1 = time.time()\n",
        "moves_astar1, closed_astar1, open_astar1 = astar1.solve()\n",
        "end_astar1 = time.time()\n",
        "\n",
        "print(f\"A* BCars - num of moves: {len(moves_astar1)}, num of nodes passes: {closed_astar1}, num of nodes gen: {open_astar1 + closed_astar1}, time: {end_astar1 - start_astar1}\")\n",
        "print(astar1.solutionMoves(moves_astar1))\n",
        "\n",
        "start_astar2 = time.time()\n",
        "moves_astar2, closed_astar2, open_astar2 = astar2.solve()\n",
        "end_astar2 = time.time()\n",
        "\n",
        "print(f\"A* BBCars - num of moves: {len(moves_astar2)}, num of nodes passes: {closed_astar2}, num of nodes gen: {open_astar2 + closed_astar2}, time: {end_astar2 - start_astar2}\")\n",
        "print(astar2.solutionMoves(moves_astar2))\n",
        "\n",
        "start_IDAstar1 = time.time()\n",
        "moves_IDAstar1, visited_IDAstar1, generated_IDAstar1, dup_IDAstar1 = IDAstar1.solveIDA()\n",
        "end_IDAstar1 = time.time()\n",
        "\n",
        "dup_IDAstar1_num = 0\n",
        "for key,val in dup_IDAstar1.items():\n",
        "  if val > 1: dup_IDAstar1_num += (val - 1)\n",
        "\n",
        "print(f\"IDA* BCars - num of moves: {len(moves_IDAstar1)}, num of nodes passes: {visited_IDAstar1}, num of nodes gen: {generated_IDAstar1}, duplicates passes: {dup_IDAstar1_num}, time: {end_IDAstar1 - start_IDAstar1}\")\n",
        "print(IDAstar1.solutionMoves(moves_IDAstar1))\n",
        "\n",
        "start_IDAstar2 = time.time()\n",
        "moves_IDAstar2, visited_IDAstar2, generated_IDAstar2, dup_IDAstar2 = IDAstar2.solveIDA()\n",
        "end_IDAstar2 = time.time()\n",
        "\n",
        "dup_IDAstar2_num = 0\n",
        "for key,val in dup_IDAstar2.items():\n",
        "  if val > 1: dup_IDAstar2_num += (val - 1)\n",
        "\n",
        "print(f\"IDA* BBCars - num of moves: {len(moves_IDAstar2)}, num of nodes passes: {visited_IDAstar2}, num of nodes gen: {generated_IDAstar2}, duplicates passes: {dup_IDAstar2_num}, time: {end_IDAstar2 - start_IDAstar2}\")\n",
        "print(IDAstar2.solutionMoves(moves_IDAstar2))"
      ],
      "metadata": {
        "colab": {
          "base_uri": "https://localhost:8080/"
        },
        "id": "sxUGfpm_4Zkp",
        "outputId": "b7851c05-1f9b-4dc2-8359-53c7ea8d2b1b"
      },
      "execution_count": 15,
      "outputs": [
        {
          "output_type": "stream",
          "name": "stdout",
          "text": [
            ". . . . . O\n",
            "P . . Q . O\n",
            "P r r Q . O\n",
            "P . . Q . .\n",
            "B . C C . .\n",
            "B . X X X .\n",
            "\n",
            "A* BCars - num of moves: 13, num of nodes passes: 337, num of nodes gen: 539, time: 1.1522634029388428\n",
            "P up; B up; C left; Q down; X left; X left; Q down; r right; r right; O down; O down; O down; r right\n",
            "A* BBCars - num of moves: 13, num of nodes passes: 329, num of nodes gen: 599, time: 1.1312661170959473\n",
            "C left; P up; B up; X left; X left; Q down; Q down; r right; r right; O down; O down; O down; r right\n",
            "IDA* BCars - num of moves: 13, num of nodes passes: 547301, num of nodes gen: 2975775, duplicates passes: 546974, time: 965.9517261981964\n",
            "O down; O down; O down; P up; B up; C left; Q down; X left; X left; Q down; r right; r right; r right\n",
            "IDA* BBCars - num of moves: 13, num of nodes passes: 349274, num of nodes gen: 1946577, duplicates passes: 348963, time: 657.1327524185181\n",
            "O down; O down; O down; P up; B up; C left; Q down; X left; X left; Q down; r right; r right; r right\n"
          ]
        }
      ]
    },
    {
      "cell_type": "markdown",
      "source": [
        "# Graphs"
      ],
      "metadata": {
        "id": "f2XHPXGCcMOD"
      }
    },
    {
      "cell_type": "markdown",
      "source": [
        "## Setup"
      ],
      "metadata": {
        "id": "wMNhUG4bpttB"
      }
    },
    {
      "cell_type": "code",
      "source": [
        "import matplotlib.pyplot as plt\n",
        "%matplotlib inline\n",
        "import seaborn as sns\n",
        "import pandas as pd\n",
        "\n",
        "sns.set(rc={'figure.figsize':(5,3)})\n",
        "sns.set_theme(style=\"whitegrid\")"
      ],
      "metadata": {
        "id": "412eC9N9Elyw"
      },
      "execution_count": 72,
      "outputs": []
    },
    {
      "cell_type": "code",
      "source": [
        "d1 = {\n",
        "      'algorithm': [\"A* B\", \"A* BB\", \"IDA* B\", \"IDA* BB\"],\n",
        "      'problem': [1, 1, 1, 1],\n",
        "      'time': [0.0345, 0.0355, 0.0354, 0.0501],\n",
        "      'nodes passed': [27, 27, 26, 26],\n",
        "      'nodes generated': [102, 102, 143, 143],\n",
        "      'duplicates': [0, 0, 7, 7]\n",
        "\n",
        "     }\n",
        "df1 = pd.DataFrame(data=d1)\n",
        "\n",
        "d2 = {\n",
        "      'algorithm': [\"A* B\", \"A* BB\", \"IDA* B\", \"IDA* BB\"],\n",
        "      'problem': [2, 2, 2, 2],\n",
        "      'time': [0.1106, 0.0285, 0.2301, 0.0709],\n",
        "      'nodes passed': [71, 18, 126, 34],\n",
        "      'nodes generated': [281, 107, 814, 250],\n",
        "      'duplicates': [0, 0, 69, 14]\n",
        "\n",
        "     }\n",
        "df2 = pd.DataFrame(data=d2)\n",
        "\n",
        "d3 = {\n",
        "      'algorithm': [\"A* B\", \"A* BB\", \"IDA* B\", \"IDA* BB\"],\n",
        "      'problem': [3, 3, 3, 3],\n",
        "      'time': [0.2568, 0.2232, 4.8597, 2.9451],\n",
        "      'nodes passed': [170, 155, 3987, 2338],\n",
        "      'nodes generated': [334, 334, 19336, 11463],\n",
        "      'duplicates': [0, 0, 3853, 2222]\n",
        "\n",
        "     }\n",
        "df3 = pd.DataFrame(data=d3)\n",
        "\n",
        "d4 = {\n",
        "      'algorithm': [\"A* B\", \"A* BB\", \"IDA* B\", \"IDA* BB\"],\n",
        "      'problem': [4, 4, 4, 4],\n",
        "      'time': [0.8423, 0.6269, 608.4635, 195.6625],\n",
        "      'nodes passed': [336, 283, 472301, 131870],\n",
        "      'nodes generated': [719, 666, 2034804, 651617],\n",
        "      'duplicates': [0, 0, 471989, 131608]\n",
        "\n",
        "     }\n",
        "df4 = pd.DataFrame(data=d4)\n",
        "\n",
        "d5 = {\n",
        "      'algorithm': [\"A* B\", \"A* BB\", \"IDA* B\", \"IDA* BB\"],\n",
        "      'problem': [5, 5, 5, 5],\n",
        "      'time': [1.1523, 1.1313, 965.9517, 657.1328],\n",
        "      'nodes passed': [337, 329, 547301, 349274],\n",
        "      'nodes generated': [599, 539, 2975775, 1946577],\n",
        "      'duplicates': [0, 0, 546974, 348963]\n",
        "\n",
        "     }\n",
        "df5 = pd.DataFrame(data=d5)"
      ],
      "metadata": {
        "id": "79TUmE5wfiow"
      },
      "execution_count": 56,
      "outputs": []
    },
    {
      "cell_type": "code",
      "source": [
        "frames = [df1, df2, df3, df4, df5]\n",
        "  \n",
        "df = pd.concat(frames)"
      ],
      "metadata": {
        "id": "GtUyb0c2mJ29"
      },
      "execution_count": 57,
      "outputs": []
    },
    {
      "cell_type": "code",
      "source": [
        "def graph(problem, y):\n",
        "  ax = sns.barplot(x=\"algorithm\", y=y, data=df[df['problem'] == problem])"
      ],
      "metadata": {
        "id": "VQUlZB9NfBbL"
      },
      "execution_count": 68,
      "outputs": []
    },
    {
      "cell_type": "markdown",
      "source": [
        "## Time"
      ],
      "metadata": {
        "id": "3uqtNn32pwtE"
      }
    },
    {
      "cell_type": "code",
      "source": [
        "graph(1, \"time\")"
      ],
      "metadata": {
        "colab": {
          "base_uri": "https://localhost:8080/",
          "height": 230
        },
        "id": "-v2NDwA3hJtG",
        "outputId": "d2aedf9b-bc31-4319-d5e7-761f709b3820"
      },
      "execution_count": 91,
      "outputs": [
        {
          "output_type": "display_data",
          "data": {
            "image/png": "[encoded data removed]",
            "text/plain": [
              "<Figure size 360x216 with 1 Axes>"
            ]
          },
          "metadata": {}
        }
      ]
    },
    {
      "cell_type": "code",
      "source": [
        "graph(2, \"time\")"
      ],
      "metadata": {
        "colab": {
          "base_uri": "https://localhost:8080/",
          "height": 230
        },
        "id": "SBtnrAA4p0do",
        "outputId": "87ec1371-70d5-44af-b283-1cc3714033df"
      },
      "execution_count": 92,
      "outputs": [
        {
          "output_type": "display_data",
          "data": {
            "image/png": "[encoded data removed]",
            "text/plain": [
              "<Figure size 360x216 with 1 Axes>"
            ]
          },
          "metadata": {}
        }
      ]
    },
    {
      "cell_type": "code",
      "source": [
        "graph(3, \"time\")"
      ],
      "metadata": {
        "colab": {
          "base_uri": "https://localhost:8080/",
          "height": 231
        },
        "id": "rJkPTHV8p2cL",
        "outputId": "43a648a2-207d-4600-ad73-fce098acd336"
      },
      "execution_count": 93,
      "outputs": [
        {
          "output_type": "display_data",
          "data": {
            "image/png": "[encoded data removed]",
            "text/plain": [
              "<Figure size 360x216 with 1 Axes>"
            ]
          },
          "metadata": {}
        }
      ]
    },
    {
      "cell_type": "code",
      "source": [
        "graph(4, \"time\")"
      ],
      "metadata": {
        "colab": {
          "base_uri": "https://localhost:8080/",
          "height": 230
        },
        "id": "pWtxAJPrp3Zo",
        "outputId": "9dfd3473-b83b-4d69-bb3f-b32f922ca75b"
      },
      "execution_count": 94,
      "outputs": [
        {
          "output_type": "display_data",
          "data": {
            "image/png": "[encoded data removed]",
            "text/plain": [
              "<Figure size 360x216 with 1 Axes>"
            ]
          },
          "metadata": {}
        }
      ]
    },
    {
      "cell_type": "code",
      "source": [
        "graph(5, \"time\")"
      ],
      "metadata": {
        "colab": {
          "base_uri": "https://localhost:8080/",
          "height": 232
        },
        "id": "QtnLDNnDp4gG",
        "outputId": "627bf205-af57-449d-e292-9bf5370caaeb"
      },
      "execution_count": 95,
      "outputs": [
        {
          "output_type": "display_data",
          "data": {
            "image/png": "[encoded data removed]",
            "text/plain": [
              "<Figure size 360x216 with 1 Axes>"
            ]
          },
          "metadata": {}
        }
      ]
    },
    {
      "cell_type": "markdown",
      "source": [
        "## Nodes Passed"
      ],
      "metadata": {
        "id": "OFjUJ7SIp8UY"
      }
    },
    {
      "cell_type": "code",
      "source": [
        "graph(1, \"nodes passed\")"
      ],
      "metadata": {
        "colab": {
          "base_uri": "https://localhost:8080/",
          "height": 230
        },
        "id": "J_VPUZxPp7lt",
        "outputId": "1c4572c4-06e0-4644-949b-76b2a2b33469"
      },
      "execution_count": 79,
      "outputs": [
        {
          "output_type": "display_data",
          "data": {
            "image/png": "[encoded data removed]",
            "text/plain": [
              "<Figure size 360x216 with 1 Axes>"
            ]
          },
          "metadata": {}
        }
      ]
    },
    {
      "cell_type": "code",
      "source": [
        "graph(2, \"nodes passed\")"
      ],
      "metadata": {
        "colab": {
          "base_uri": "https://localhost:8080/",
          "height": 230
        },
        "id": "lEr4tksNqIxi",
        "outputId": "121f1198-b17c-4586-c43e-681b94bd2c86"
      },
      "execution_count": 80,
      "outputs": [
        {
          "output_type": "display_data",
          "data": {
            "image/png": "[encoded data removed]",
            "text/plain": [
              "<Figure size 360x216 with 1 Axes>"
            ]
          },
          "metadata": {}
        }
      ]
    },
    {
      "cell_type": "code",
      "source": [
        "graph(3, \"nodes passed\")"
      ],
      "metadata": {
        "colab": {
          "base_uri": "https://localhost:8080/",
          "height": 230
        },
        "id": "DFzVDdM3qKs1",
        "outputId": "4328854f-aae8-46e1-a0f0-7814de96ef1a"
      },
      "execution_count": 81,
      "outputs": [
        {
          "output_type": "display_data",
          "data": {
            "image/png": "[encoded data removed]",
            "text/plain": [
              "<Figure size 360x216 with 1 Axes>"
            ]
          },
          "metadata": {}
        }
      ]
    },
    {
      "cell_type": "code",
      "source": [
        "graph(4, \"nodes passed\")"
      ],
      "metadata": {
        "colab": {
          "base_uri": "https://localhost:8080/",
          "height": 230
        },
        "id": "ilXCTgylqLxk",
        "outputId": "828f6551-be20-48ea-cbe2-bc88975d7b76"
      },
      "execution_count": 82,
      "outputs": [
        {
          "output_type": "display_data",
          "data": {
            "image/png": "[encoded data removed]",
            "text/plain": [
              "<Figure size 360x216 with 1 Axes>"
            ]
          },
          "metadata": {}
        }
      ]
    },
    {
      "cell_type": "code",
      "source": [
        "graph(5, \"nodes passed\")"
      ],
      "metadata": {
        "colab": {
          "base_uri": "https://localhost:8080/",
          "height": 230
        },
        "id": "L-zAVmiBqMzs",
        "outputId": "13e2fdba-aa20-460c-826f-94de01a56440"
      },
      "execution_count": 83,
      "outputs": [
        {
          "output_type": "display_data",
          "data": {
            "image/png": "[encoded data removed]",
            "text/plain": [
              "<Figure size 360x216 with 1 Axes>"
            ]
          },
          "metadata": {}
        }
      ]
    },
    {
      "cell_type": "markdown",
      "source": [
        "## Nodes Generated"
      ],
      "metadata": {
        "id": "ZlzdpsZHqOYP"
      }
    },
    {
      "cell_type": "code",
      "source": [
        "graph(1, \"nodes generated\")"
      ],
      "metadata": {
        "colab": {
          "base_uri": "https://localhost:8080/",
          "height": 234
        },
        "id": "IfQEGKQ3qVja",
        "outputId": "4177a937-f3af-4767-e3ea-f1a0be5a6c94"
      },
      "execution_count": 84,
      "outputs": [
        {
          "output_type": "display_data",
          "data": {
            "image/png": "[encoded data removed]",
            "text/plain": [
              "<Figure size 360x216 with 1 Axes>"
            ]
          },
          "metadata": {}
        }
      ]
    },
    {
      "cell_type": "code",
      "source": [
        "graph(2, \"nodes generated\")"
      ],
      "metadata": {
        "colab": {
          "base_uri": "https://localhost:8080/",
          "height": 230
        },
        "id": "AGFlQxnyqY-U",
        "outputId": "4d754a3a-ff77-4dbc-ebe6-93c8f2be6055"
      },
      "execution_count": 85,
      "outputs": [
        {
          "output_type": "display_data",
          "data": {
            "image/png": "[encoded data removed]",
            "text/plain": [
              "<Figure size 360x216 with 1 Axes>"
            ]
          },
          "metadata": {}
        }
      ]
    },
    {
      "cell_type": "code",
      "source": [
        "graph(3, \"nodes generated\")"
      ],
      "metadata": {
        "colab": {
          "base_uri": "https://localhost:8080/",
          "height": 232
        },
        "id": "Ub3eAOvxqaL5",
        "outputId": "fc0de972-5e2a-4518-c397-ced6ffc198b9"
      },
      "execution_count": 86,
      "outputs": [
        {
          "output_type": "display_data",
          "data": {
            "image/png": "[encoded data removed]",
            "text/plain": [
              "<Figure size 360x216 with 1 Axes>"
            ]
          },
          "metadata": {}
        }
      ]
    },
    {
      "cell_type": "code",
      "source": [
        "graph(4, \"nodes generated\")"
      ],
      "metadata": {
        "colab": {
          "base_uri": "https://localhost:8080/",
          "height": 241
        },
        "id": "8oQgdHSxqbUM",
        "outputId": "b8010ac2-58ed-4098-d56d-6602a48bb55e"
      },
      "execution_count": 87,
      "outputs": [
        {
          "output_type": "display_data",
          "data": {
            "image/png": "[encoded data removed]",
            "text/plain": [
              "<Figure size 360x216 with 1 Axes>"
            ]
          },
          "metadata": {}
        }
      ]
    },
    {
      "cell_type": "code",
      "source": [
        "graph(5, \"nodes generated\")"
      ],
      "metadata": {
        "colab": {
          "base_uri": "https://localhost:8080/",
          "height": 241
        },
        "id": "ywWEsK1_qcaE",
        "outputId": "0bc0995e-19a6-405a-f700-021ab961c1b1"
      },
      "execution_count": 88,
      "outputs": [
        {
          "output_type": "display_data",
          "data": {
            "image/png": "[encoded data removed]",
            "text/plain": [
              "<Figure size 360x216 with 1 Axes>"
            ]
          },
          "metadata": {}
        }
      ]
    },
    {
      "cell_type": "markdown",
      "source": [
        "## Duplicates"
      ],
      "metadata": {
        "id": "CYz8o8HSqd0i"
      }
    },
    {
      "cell_type": "code",
      "source": [
        "graph(1, \"duplicates\")"
      ],
      "metadata": {
        "colab": {
          "base_uri": "https://localhost:8080/",
          "height": 230
        },
        "id": "UB2RZIXsqgyS",
        "outputId": "387a364d-8f43-43c4-9df5-6f6532e3fdf7"
      },
      "execution_count": 90,
      "outputs": [
        {
          "output_type": "display_data",
          "data": {
            "image/png": "[encoded data removed]",
            "text/plain": [
              "<Figure size 360x216 with 1 Axes>"
            ]
          },
          "metadata": {}
        }
      ]
    },
    {
      "cell_type": "code",
      "source": [
        "graph(2, \"duplicates\")"
      ],
      "metadata": {
        "colab": {
          "base_uri": "https://localhost:8080/",
          "height": 230
        },
        "id": "BZctheGwqs-O",
        "outputId": "ea6f6459-1794-4992-f50e-5f7d06b3478e"
      },
      "execution_count": 96,
      "outputs": [
        {
          "output_type": "display_data",
          "data": {
            "image/png": "[encoded data removed]",
            "text/plain": [
              "<Figure size 360x216 with 1 Axes>"
            ]
          },
          "metadata": {}
        }
      ]
    },
    {
      "cell_type": "code",
      "source": [
        "graph(3, \"duplicates\")"
      ],
      "metadata": {
        "colab": {
          "base_uri": "https://localhost:8080/",
          "height": 233
        },
        "id": "eVNEAwtHqug3",
        "outputId": "90879388-9496-4b78-8472-33b8f400e791"
      },
      "execution_count": 97,
      "outputs": [
        {
          "output_type": "display_data",
          "data": {
            "image/png": "[encoded data removed]",
            "text/plain": [
              "<Figure size 360x216 with 1 Axes>"
            ]
          },
          "metadata": {}
        }
      ]
    },
    {
      "cell_type": "code",
      "source": [
        "graph(4, \"duplicates\")"
      ],
      "metadata": {
        "colab": {
          "base_uri": "https://localhost:8080/",
          "height": 230
        },
        "id": "fGCukFIKqvbX",
        "outputId": "9c7dc7fa-7d7b-4d37-950a-5cb749074ef1"
      },
      "execution_count": 98,
      "outputs": [
        {
          "output_type": "display_data",
          "data": {
            "image/png": "[encoded data removed]",
            "text/plain": [
              "<Figure size 360x216 with 1 Axes>"
            ]
          },
          "metadata": {}
        }
      ]
    },
    {
      "cell_type": "code",
      "source": [
        "graph(5, \"duplicates\")"
      ],
      "metadata": {
        "colab": {
          "base_uri": "https://localhost:8080/",
          "height": 230
        },
        "id": "saR1kKiKqw0V",
        "outputId": "7cbbf00e-c01b-4ac1-b18a-a047d1902427"
      },
      "execution_count": 99,
      "outputs": [
        {
          "output_type": "display_data",
          "data": {
            "image/png": "[encoded data removed]",
            "text/plain": [
              "<Figure size 360x216 with 1 Axes>"
            ]
          },
          "metadata": {}
        }
      ]
    }
  ]
}